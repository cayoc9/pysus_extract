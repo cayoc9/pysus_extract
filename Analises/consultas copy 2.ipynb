{
 "cells": [
  {
   "cell_type": "code",
   "execution_count": 1,
   "metadata": {},
   "outputs": [],
   "source": [
    "from pysus.ftp.databases.sia import SIA\n",
    "from pysus.ftp.databases.sih import SIH\n",
    "from pysus.ftp.databases.cnes import CNES\n",
    "from pysus.ftp.databases.sim import SIM\n",
    "from pysus.ftp.databases.sinasc import SINASC\n",
    "from pysus.ftp.databases.sinan import SINAN\n",
    "import pandas as pd\n",
    "import os\n",
    "\n",
    "sia = SIA().load()\n",
    "sih = SIH().load()\n",
    "cnes = CNES().load()\n",
    "sim = SIM().load()\n",
    "sinasc = SINASC().load()\n",
    "sinan = SINAN().load()"
   ]
  },
  {
   "cell_type": "code",
   "execution_count": 8,
   "metadata": {},
   "outputs": [
    {
     "name": "stdout",
     "output_type": "stream",
     "text": []
    }
   ],
   "source": [
    "sia.groups"
   ]
  },
  {
   "cell_type": "markdown",
   "metadata": {},
   "source": [
    "# Baixar Grupo do SIH"
   ]
  },
  {
   "cell_type": "code",
   "execution_count": null,
   "metadata": {},
   "outputs": [],
   "source": [
    "files = sih.get_files(['BI'], uf=[\"SP\", \"MG\", \"PR\"], year=[1997, 1998, 1999, 2000, 2001, 2002, 2003, 2004, 2005, 2006, 2007,2008, 2009, 2010, 2011, 2012, 2013, 2014, 2015, 2016, 2017])\n",
    "files\n",
    "\n",
    "## 'AD','AM','AMP','AN','AQ','AR','ATD','BI','PS','SAD'\n",
    "## outro anos: 1997, 1998, 1999, 2000, 2001, 2002, 2003, 2004, 2005, 2006, 2007,2008, 2009, 2010, 2011, 2012, 2013, 2014, 2015, 2016, 2017, 2018, 2019, 2020, 2021, 2022, 2023,  \n",
    "##, \"ABO\", \"ACF\""
   ]
  },
  {
   "cell_type": "code",
   "execution_count": 4,
   "metadata": {},
   "outputs": [
    {
     "name": "stdout",
     "output_type": "stream",
     "text": []
    }
   ],
   "source": [
    "parquet = sia.download(files, local_dir=\"/root/pysus_sih/parquet_files/SIA/BI\")"
   ]
  },
  {
   "cell_type": "code",
   "execution_count": 6,
   "metadata": {},
   "outputs": [],
   "source": [
    "estados = [\n",
    "    \"AC\",  # Acre\n",
    "    \"AL\",  # Alagoas\n",
    "    \"AP\",  # Amapá\n",
    "    \"AM\",  # Amazonas\n",
    "    \"BA\",  # Bahia\n",
    "    \"CE\",  # Ceará\n",
    "    \"DF\",  # Distrito Federal\n",
    "    \"ES\",  # Espírito Santo\n",
    "    \"GO\",  # Goiás\n",
    "    \"MA\",  # Maranhão\n",
    "    \"MT\",  # Mato Grosso\n",
    "    \"MS\",  # Mato Grosso do Sul\n",
    "    \"MG\",  # Minas Gerais\n",
    "    \"PA\",  # Pará\n",
    "    \"PB\",  # Paraíba\n",
    "    \"PR\",  # Paraná\n",
    "    \"PE\",  # Pernambuco\n",
    "    \"PI\",  # Piauí\n",
    "    \"RJ\",  # Rio de Janeiro\n",
    "    \"RN\",  # Rio Grande do Norte\n",
    "    \"RS\",  # Rio Grande do Sul\n",
    "    \"RO\",  # Rondônia\n",
    "    \"RR\",  # Roraima\n",
    "    \"SC\",  # Santa Catarina\n",
    "    \"SP\",  # São Paulo\n",
    "    \"SE\",  # Sergipe\n",
    "    \"TO\"   # Tocantins\n",
    "]\n",
    "anos = [ 2024, 2025 ]\n",
    "   # 1997, 1998, 1999, 2000, 2001, 2002, 2003, 2004, 2005, 2006, 2007,2008, 2009, 2010, 2011, 2012, 2013, 2014, 2015, 2016, 2017, 2018, 2019, 2020, 2021, 2022, 2023,"
   ]
  },
  {
   "cell_type": "code",
   "execution_count": 2,
   "metadata": {},
   "outputs": [
    {
     "name": "stdout",
     "output_type": "stream",
     "text": []
    },
    {
     "name": "stdout",
     "output_type": "stream",
     "text": []
    },
    {
     "name": "stdout",
     "output_type": "stream",
     "text": []
    },
    {
     "name": "stdout",
     "output_type": "stream",
     "text": []
    },
    {
     "name": "stdout",
     "output_type": "stream",
     "text": []
    },
    {
     "name": "stdout",
     "output_type": "stream",
     "text": []
    },
    {
     "name": "stdout",
     "output_type": "stream",
     "text": []
    }
   ],
   "source": [
    "Grupos = ['RJ', 'ER']\n",
    "estados = ['ES']\n",
    "anos = [2024, 2025]\n",
    "\n",
    "for Grupo in Grupos:\n",
    "    try:\n",
    "        # Obtém os arquivos para o grupo atual\n",
    "        print(f\"Processando o grupo: {Grupo}\")\n",
    "        files = sih.get_files([Grupo], uf=estados, year=anos)\n",
    "        \n",
    "        # Faz o download dos arquivos para o diretório especificado\n",
    "        local_dir = f\"../parquet_files/SIH/{Grupo}\"\n",
    "        parquet = sih.download(files, local_dir=local_dir)\n",
    "        \n",
    "        print(f\"Arquivos para o grupo '{Grupo}' baixados com sucesso em: {local_dir}\")\n",
    "    except Exception as e:\n",
    "        print(f\"Erro ao processar o grupo '{Grupo}': {e}\")\n"
   ]
  },
  {
   "cell_type": "code",
   "execution_count": null,
   "metadata": {},
   "outputs": [],
   "source": []
  },
  {
   "cell_type": "markdown",
   "metadata": {},
   "source": [
    "# Baixar Amostras de grupos"
   ]
  },
  {
   "cell_type": "code",
   "execution_count": 7,
   "metadata": {},
   "outputs": [
    {
     "name": "stdout",
     "output_type": "stream",
     "text": []
    },
    {
     "name": "stdout",
     "output_type": "stream",
     "text": []
    },
    {
     "name": "stdout",
     "output_type": "stream",
     "text": []
    },
    {
     "name": "stdout",
     "output_type": "stream",
     "text": []
    },
    {
     "name": "stdout",
     "output_type": "stream",
     "text": []
    },
    {
     "name": "stdout",
     "output_type": "stream",
     "text": []
    },
    {
     "name": "stdout",
     "output_type": "stream",
     "text": []
    },
    {
     "name": "stdout",
     "output_type": "stream",
     "text": []
    },
    {
     "name": "stdout",
     "output_type": "stream",
     "text": []
    },
    {
     "name": "stdout",
     "output_type": "stream",
     "text": []
    },
    {
     "name": "stdout",
     "output_type": "stream",
     "text": []
    },
    {
     "name": "stdout",
     "output_type": "stream",
     "text": []
    },
    {
     "name": "stdout",
     "output_type": "stream",
     "text": []
    },
    {
     "name": "stdout",
     "output_type": "stream",
     "text": []
    },
    {
     "name": "stdout",
     "output_type": "stream",
     "text": []
    },
    {
     "name": "stdout",
     "output_type": "stream",
     "text": []
    },
    {
     "name": "stdout",
     "output_type": "stream",
     "text": []
    },
    {
     "name": "stdout",
     "output_type": "stream",
     "text": []
    },
    {
     "name": "stdout",
     "output_type": "stream",
     "text": []
    },
    {
     "name": "stdout",
     "output_type": "stream",
     "text": []
    },
    {
     "name": "stdout",
     "output_type": "stream",
     "text": []
    },
    {
     "name": "stdout",
     "output_type": "stream",
     "text": []
    },
    {
     "name": "stdout",
     "output_type": "stream",
     "text": []
    },
    {
     "name": "stdout",
     "output_type": "stream",
     "text": []
    },
    {
     "name": "stdout",
     "output_type": "stream",
     "text": []
    },
    {
     "name": "stdout",
     "output_type": "stream",
     "text": []
    },
    {
     "name": "stdout",
     "output_type": "stream",
     "text": []
    },
    {
     "name": "stdout",
     "output_type": "stream",
     "text": []
    }
   ],
   "source": [
    "Grupos = ['DC','EE','EF','EP','EQ','GM','HB','IN','LT','PF','RC','SR','ST']\n",
    "\n",
    "for Grupo in Grupos:\n",
    "    try:\n",
    "        # Obtém os arquivos para o grupo atual\n",
    "        print(f\"Processando o grupo: {Grupo}\")\n",
    "        files = cnes.get_files([Grupo], uf=[\"SP\"], year=[2024])\n",
    "        \n",
    "        # Faz o download dos arquivos para o diretório especificado\n",
    "        local_dir = f\"pysus_sih/parquet_files/CNES/{Grupo}\"\n",
    "        parquet = cnes.download(files, local_dir=local_dir)\n",
    "        \n",
    "        print(f\"Arquivos para o grupo '{Grupo}' baixados com sucesso em: {local_dir}\")\n",
    "    except Exception as e:\n",
    "        print(f\"Erro ao processar o grupo '{Grupo}': {e}\")\n"
   ]
  },
  {
   "cell_type": "code",
   "execution_count": null,
   "metadata": {},
   "outputs": [
    {
     "name": "stdout",
     "output_type": "stream",
     "text": []
    }
   ],
   "source": []
  },
  {
   "cell_type": "code",
   "execution_count": null,
   "metadata": {},
   "outputs": [],
   "source": [
    "# Lista para armazenar os DataFrames\n",
    "dataframes = []\n",
    "\n",
    "# Caminho para a pasta contendo os arquivos Parquet\n",
    "caminho_pasta_sp = '/root/pysus_sih/parquet_files/SIH/SP/SPAC2303.parquet'\n",
    "\n",
    "caminho_pasta_SP_1 = '/root/pysus_sih/parquet_files/SIH/SP/SPSP0702.parquet'\n"
   ]
  },
  {
   "cell_type": "code",
   "execution_count": 28,
   "metadata": {},
   "outputs": [],
   "source": [
    "# Itera sobre os arquivos na pasta\n",
    "for arquivo in os.listdir(caminho_pasta):\n",
    "    if arquivo.endswith('.parquet'):\n",
    "        caminho_pasta_SP_1 = os.path.join(caminho_pasta, arquivo)\n",
    "        df_temp = pd.read_parquet(caminho_pasta_SP_1)\n",
    "        dataframes.append(df_temp)\n",
    "\n",
    "# Concatena todos os DataFrames em um único\n",
    "df = pd.concat(dataframes, ignore_index=True)\n"
   ]
  },
  {
   "cell_type": "code",
   "execution_count": 32,
   "metadata": {},
   "outputs": [
    {
     "name": "stdout",
     "output_type": "stream",
     "text": []
    }
   ],
   "source": [
    "caminho_erro = 'pysus_sih/parquet_files/SIH/SP/SPAC9708.parquet/e66a285d426e4032b5dfb58f9a2fa2f0-0.parquet'\n",
    "df_temp = pd.read_parquet(caminho_pasta_SP_1)\n",
    "df_temp"
   ]
  },
  {
   "cell_type": "code",
   "execution_count": null,
   "metadata": {},
   "outputs": [],
   "source": [
    "# colunas = df.columns #RD\n",
    "# with open('colunas_rj.txt', 'w') as arquivo:\n",
    "#     # Escrever cada nome de coluna em uma nova linha\n",
    "#     for coluna in colunas:\n",
    "#         arquivo.write(f\"{coluna}\\n\")"
   ]
  },
  {
   "cell_type": "code",
   "execution_count": 4,
   "metadata": {},
   "outputs": [
    {
     "name": "stdout",
     "output_type": "stream",
     "text": []
    }
   ],
   "source": [
    "df = pd.read_parquet(\"../parquet_files/SIH/RJ/RJES2409.parquet\")\n",
    "print(df.columns)\n"
   ]
  },
  {
   "cell_type": "code",
   "execution_count": 9,
   "metadata": {},
   "outputs": [
    {
     "name": "stdout",
     "output_type": "stream",
     "text": []
    }
   ],
   "source": [
    "# Mostra as primeiras 5 linhas das colunas 'DT_INTER' e 'DT_SAIDA'\n",
    "df[['DT_INTER', 'DT_SAIDA']].head()"
   ]
  },
  {
   "cell_type": "code",
   "execution_count": null,
   "metadata": {},
   "outputs": [
    {
     "name": "stdout",
     "output_type": "stream",
     "text": []
    }
   ],
   "source": [
    "df = pd.read_parquet(\"../parquet_files/SIH/SP/SPES2409.parquet\")\n",
    "print(df.columns)\n"
   ]
  },
  {
   "cell_type": "code",
   "execution_count": null,
   "metadata": {},
   "outputs": [],
   "source": [
    "# 1. Informações Gerais sobre o DataFrame\n",
    "print(\"Informações do DataFrame:\")\n",
    "print(df.info())\n",
    "\n"
   ]
  },
  {
   "cell_type": "code",
   "execution_count": 14,
   "metadata": {},
   "outputs": [
    {
     "name": "stdout",
     "output_type": "stream",
     "text": []
    }
   ],
   "source": [
    "# 2. Estatísticas Descritivas de Colunas Numéricas\n",
    "print(\"\\nEstatísticas Descritivas (Numéricas):\")\n",
    "print(df.describe())\n",
    "\n"
   ]
  },
  {
   "cell_type": "code",
   "execution_count": 15,
   "metadata": {},
   "outputs": [
    {
     "name": "stdout",
     "output_type": "stream",
     "text": []
    }
   ],
   "source": [
    "# 3. Estatísticas Descritivas de Colunas Categóricas\n",
    "print(\"\\nEstatísticas Descritivas (Categóricas):\")\n",
    "print(df.describe(include=['object', 'category']))\n"
   ]
  },
  {
   "cell_type": "code",
   "execution_count": null,
   "metadata": {},
   "outputs": [],
   "source": [
    "\n",
    "# 4. Verificar Valores Únicos e Frequência\n",
    "print(\"\\nValores Únicos por Coluna:\")\n",
    "for column in df.columns:\n",
    "    print(f\"Coluna: {column}\")\n",
    "    print(f\"- Valores Únicos: {df[column].nunique()}\")\n",
    "    print(f\"- Principais Valores:\\n{df[column].value_counts().head()}\\n\")\n",
    "\n"
   ]
  },
  {
   "cell_type": "code",
   "execution_count": 18,
   "metadata": {},
   "outputs": [
    {
     "name": "stdout",
     "output_type": "stream",
     "text": []
    }
   ],
   "source": [
    "# 5. Verificar Valores Nulos\n",
    "print(\"\\nValores Nulos por Coluna:\")\n",
    "print(df.isnull().sum())\n",
    "\n"
   ]
  },
  {
   "cell_type": "code",
   "execution_count": 19,
   "metadata": {},
   "outputs": [
    {
     "name": "stdout",
     "output_type": "stream",
     "text": []
    }
   ],
   "source": [
    "# 6. Tipos de Dados no DataFrame\n",
    "print(\"\\nTipos de Dados:\")\n",
    "print(df.dtypes)"
   ]
  },
  {
   "cell_type": "code",
   "execution_count": null,
   "metadata": {},
   "outputs": [
    {
     "name": "stdout",
     "output_type": "stream",
     "text": []
    }
   ],
   "source": [
    "colunas = df.columns #SP\n",
    "colunas"
   ]
  },
  {
   "cell_type": "code",
   "execution_count": 29,
   "metadata": {},
   "outputs": [
    {
     "name": "stdout",
     "output_type": "stream",
     "text": []
    }
   ],
   "source": [
    "\n",
    "colunas = df.columns #SP\n",
    "colunas"
   ]
  },
  {
   "cell_type": "code",
   "execution_count": 30,
   "metadata": {},
   "outputs": [
    {
     "name": "stdout",
     "output_type": "stream",
     "text": []
    }
   ],
   "source": [
    "df"
   ]
  },
  {
   "cell_type": "code",
   "execution_count": 34,
   "metadata": {},
   "outputs": [
    {
     "name": "stdout",
     "output_type": "stream",
     "text": []
    }
   ],
   "source": [
    "df.columns #RJ\n"
   ]
  },
  {
   "cell_type": "code",
   "execution_count": 12,
   "metadata": {},
   "outputs": [
    {
     "name": "stdout",
     "output_type": "stream",
     "text": []
    }
   ],
   "source": [
    "df.columns #ER"
   ]
  },
  {
   "cell_type": "code",
   "execution_count": 15,
   "metadata": {},
   "outputs": [
    {
     "name": "stdout",
     "output_type": "stream",
     "text": []
    }
   ],
   "source": [
    "df.columns #SP"
   ]
  },
  {
   "cell_type": "code",
   "execution_count": null,
   "metadata": {},
   "outputs": [],
   "source": [
    "if 'id' in df.columns and df['id'].is_unique:\n",
    "    chave_primária = 'id'\n",
    "else:\n",
    "    # Criar uma coluna 'id' com valores únicos\n",
    "    df['id'] = range(1, len(df) + 1)\n",
    "    chave_primária = 'id'"
   ]
  },
  {
   "cell_type": "code",
   "execution_count": null,
   "metadata": {},
   "outputs": [
    {
     "name": "stdout",
     "output_type": "stream",
     "text": []
    }
   ],
   "source": [
    "for col in df.columns:\n",
    "    if df[col].is_unique:\n",
    "        print(col)"
   ]
  },
  {
   "cell_type": "code",
   "execution_count": null,
   "metadata": {},
   "outputs": [
    {
     "name": "stdout",
     "output_type": "stream",
     "text": []
    }
   ],
   "source": [
    "df[\"sp_valato\"]"
   ]
  },
  {
   "cell_type": "code",
   "execution_count": null,
   "metadata": {},
   "outputs": [
    {
     "name": "stdout",
     "output_type": "stream",
     "text": []
    }
   ],
   "source": []
  },
  {
   "cell_type": "code",
   "execution_count": null,
   "metadata": {},
   "outputs": [],
   "source": []
  }
 ],
 "metadata": {
  "kernelspec": {
   "display_name": "venv",
   "language": "python",
   "name": "python3"
  },
  "language_info": {
   "codemirror_mode": {
    "name": "ipython",
    "version": 3
   },
   "file_extension": ".py",
   "mimetype": "text/x-python",
   "name": "python",
   "nbconvert_exporter": "python",
   "pygments_lexer": "ipython3",
   "version": "3.10.12"
  }
 },
 "nbformat": 4,
 "nbformat_minor": 2
}
