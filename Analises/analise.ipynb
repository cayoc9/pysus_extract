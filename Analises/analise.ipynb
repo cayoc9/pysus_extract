{
 "cells": [
  {
   "cell_type": "code",
   "execution_count": null,
   "metadata": {},
   "outputs": [],
   "source": [
    "import pandas as pd\n",
    "\n",
    "# Carregando os dois arquivos Excel como DataFrames\n",
    "df1 = pd.read_excel('./relatorios/perda_real/RD_Analise-Espirito_santo.xlsx')\n",
    "df2 = pd.read_excel('./relatorios/perda_real/RJ_Analise-Espirito_santo.xlsx')\n",
    "\n",
    "# Exibindo o primeiro DataFrame\n",
    "print(\"DataFrame 1:\")\n",
    "display(df1)\n",
    "\n",
    "# Exibindo o segundo DataFrame\n",
    "print(\"\\nDataFrame 2:\")\n",
    "display(df2)"
   ]
  },
  {
   "cell_type": "code",
   "execution_count": null,
   "metadata": {},
   "outputs": [],
   "source": [
    "# Relatorio dos Hospitais do ES\n",
    "# Quantidade de Rejeições por Motivo de Erro\n",
    "# De 2016 ate 2024 de todos os hospitais do ES\n",
    "\n",
    "\n",
    "\n"
   ]
  },
  {
   "cell_type": "code",
   "execution_count": null,
   "metadata": {},
   "outputs": [],
   "source": []
  }
 ],
 "metadata": {
  "kernelspec": {
   "display_name": "venv",
   "language": "python",
   "name": "python3"
  },
  "language_info": {
   "codemirror_mode": {
    "name": "ipython",
    "version": 3
   },
   "file_extension": ".py",
   "mimetype": "text/x-python",
   "name": "python",
   "nbconvert_exporter": "python",
   "pygments_lexer": "ipython3",
   "version": "3.12.3"
  }
 },
 "nbformat": 4,
 "nbformat_minor": 2
}
